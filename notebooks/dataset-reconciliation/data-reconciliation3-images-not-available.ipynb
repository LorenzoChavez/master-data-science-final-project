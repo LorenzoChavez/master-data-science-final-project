{
 "cells": [
  {
   "cell_type": "markdown",
   "metadata": {},
   "source": [
    "## Not Available Images\n",
    "\n",
    "From visual inspection a number of blank images have been downloaded displaying an \"image not available\" message.  \n",
    "In this notebook I will identify all these images and add them to the broken urls file."
   ]
  },
  {
   "cell_type": "code",
   "execution_count": 74,
   "metadata": {},
   "outputs": [],
   "source": [
    "import pandas as pd\n",
    "import os\n",
    "from keras.preprocessing import image\n",
    "import cv2 #pip install opencv-python \n",
    "import numpy as np\n",
    "from tqdm import tqdm_notebook as tqdm\n",
    "import sys"
   ]
  },
  {
   "cell_type": "code",
   "execution_count": 3,
   "metadata": {},
   "outputs": [],
   "source": [
    "img_path = \"./photos/\"\n",
    "example_img = \"191783.jpg\""
   ]
  },
  {
   "cell_type": "code",
   "execution_count": 4,
   "metadata": {},
   "outputs": [
    {
     "data": {
      "image/png": "[encoded data removed]",
      "text/plain": [
       "<PIL.Image.Image image mode=RGB size=250x350 at 0x20FBB98F860>"
      ]
     },
     "execution_count": 4,
     "metadata": {},
     "output_type": "execute_result"
    }
   ],
   "source": [
    "image.load_img(img_path+example_img, target_size=(350,250))"
   ]
  },
  {
   "cell_type": "markdown",
   "metadata": {},
   "source": [
    "In order to find which images are duplicates, the strategy I will follow will be to read every image in the folder and extract its numeric representation, I will then aggregate the resulting array and compare them to find the duplicates."
   ]
  },
  {
   "cell_type": "code",
   "execution_count": 93,
   "metadata": {},
   "outputs": [],
   "source": [
    "def read_imgs(img_path):\n",
    "    list_pics = os.listdir(img_path)\n",
    "    list_pics = [img_path + img for img in list_pics]\n",
    "    print(len(list_pics), \" pictures\")\n",
    "    \n",
    "    img_arrays = []\n",
    "    with tqdm(total=len(list_pics), file=sys.stdout) as pbar:\n",
    "        for n, img in enumerate(list_pics):\n",
    "            try:\n",
    "                img_arrays.append(cv2.imread(img,0).flatten().sum())\n",
    "            except:\n",
    "                img_arrays.append(0)\n",
    "            pbar.set_description(\"done: %d\" % (1 + n))\n",
    "            pbar.update(1)\n",
    "    return np.array(img_arrays)"
   ]
  },
  {
   "cell_type": "code",
   "execution_count": 94,
   "metadata": {
    "scrolled": true
   },
   "outputs": [
    {
     "name": "stdout",
     "output_type": "stream",
     "text": [
      "259430  pictures\n"
     ]
    },
    {
     "data": {
      "application/vnd.jupyter.widget-view+json": {
       "model_id": "d8de24b3745b4536a72546c7fb4562b5",
       "version_major": 2,
       "version_minor": 0
      },
      "text/plain": [
       "HBox(children=(IntProgress(value=0, max=259430), HTML(value='')))"
      ]
     },
     "metadata": {},
     "output_type": "display_data"
    },
    {
     "name": "stdout",
     "output_type": "stream",
     "text": [
      "\n",
      "Wall time: 1h 24min 56s\n"
     ]
    }
   ],
   "source": [
    "%%time\n",
    "imgs_sum = read_imgs(img_path)"
   ]
  },
  {
   "cell_type": "code",
   "execution_count": 95,
   "metadata": {},
   "outputs": [
    {
     "data": {
      "text/plain": [
       "259430"
      ]
     },
     "execution_count": 95,
     "metadata": {},
     "output_type": "execute_result"
    }
   ],
   "source": [
    "#pd.DataFrame(imgs_sum, columns=[\"sum_array\"]).to_csv(\"imgs_array_sum.csv\", index=False)\n",
    "len(imgs_sum)"
   ]
  },
  {
   "cell_type": "markdown",
   "metadata": {},
   "source": [
    "### Exceptions?\n",
    "Had to capture exceptions in the function above since some images would break it, I will now explore what these exceptions are."
   ]
  },
  {
   "cell_type": "code",
   "execution_count": 124,
   "metadata": {},
   "outputs": [
    {
     "name": "stdout",
     "output_type": "stream",
     "text": [
      "248\n"
     ]
    }
   ],
   "source": [
    "print(len(imgs_sum[imgs_sum == 0])) #corrupted images???\n",
    "exceptions_index = np.where(imgs_sum == 0)[0]"
   ]
  },
  {
   "cell_type": "markdown",
   "metadata": {},
   "source": [
    "These 248 images had already been explored in a previous notebook and validated as broken urls, will keep their indexes and will later append them to the broken urls file."
   ]
  },
  {
   "cell_type": "markdown",
   "metadata": {},
   "source": [
    "### Images not available\n",
    "Visually picked the above image *191783.jpg* as an example of these images. I will now get the aggregated value of its array representation and compare it to the other images"
   ]
  },
  {
   "cell_type": "code",
   "execution_count": 128,
   "metadata": {},
   "outputs": [
    {
     "data": {
      "text/plain": [
       "349284817"
      ]
     },
     "execution_count": 128,
     "metadata": {},
     "output_type": "execute_result"
    }
   ],
   "source": [
    "img = cv2.imread(img_path+example_img,0)\n",
    "not_available_sum = img.flatten().sum()\n",
    "not_available_sum"
   ]
  },
  {
   "cell_type": "code",
   "execution_count": 133,
   "metadata": {
    "scrolled": true
   },
   "outputs": [
    {
     "name": "stdout",
     "output_type": "stream",
     "text": [
      "1025\n"
     ]
    }
   ],
   "source": [
    "print(len(imgs_sum[imgs_sum == not_available_sum]))\n",
    "not_available_index = np.where(imgs_sum == not_available_sum)[0]"
   ]
  },
  {
   "cell_type": "code",
   "execution_count": 134,
   "metadata": {},
   "outputs": [
    {
     "data": {
      "text/plain": [
       "'./photos/165786.jpg'"
      ]
     },
     "execution_count": 134,
     "metadata": {},
     "output_type": "execute_result"
    }
   ],
   "source": [
    "list_pics = os.listdir(img_path)\n",
    "img_path+list_pics[not_available_index[0]]"
   ]
  },
  {
   "cell_type": "code",
   "execution_count": 145,
   "metadata": {},
   "outputs": [
    {
     "data": {
      "image/png": "[encoded data removed]",
      "text/plain": [
       "<PIL.Image.Image image mode=RGB size=250x350 at 0x20FBE0E2128>"
      ]
     },
     "execution_count": 145,
     "metadata": {},
     "output_type": "execute_result"
    }
   ],
   "source": [
    "image.load_img(img_path+list_pics[not_available_index[328]], target_size=(350,250))"
   ]
  },
  {
   "cell_type": "markdown",
   "metadata": {},
   "source": [
    "We have successfully identified the 1025 images \"Not Available\".  \n",
    "\n",
    "I will now add the corrupted images and the not available images to the broken_url.csv file"
   ]
  },
  {
   "cell_type": "code",
   "execution_count": 189,
   "metadata": {},
   "outputs": [],
   "source": [
    "#adding corrupted and not availables images to a dataframe with the right format\n",
    "all_index = np.append(exceptions_index, not_available_index)\n",
    "missing_df = pd.DataFrame([list_pics[i] for i in all_index], columns=[\"filename\"])\n",
    "missing_df[\"filename\"] = missing_df[\"filename\"].str.replace(\".jpg\", \"\")"
   ]
  },
  {
   "cell_type": "code",
   "execution_count": 178,
   "metadata": {},
   "outputs": [],
   "source": [
    "#now importing the file with the urls so can join them up\n",
    "photos_file = pd.read_table(\"./photos.txt\", header=None)\n",
    "photos_file = photos_file[0].str.split(pat=\",\", n=1, expand=True)\n",
    "photos_file.columns = [\"photo\", \"url\"]\n",
    "photos_file[\"photo\"] = photos_file[\"photo\"].str.lstrip(\"0\")\n",
    "\n",
    "all_missing_df = pd.merge(missing_df, photos_file, how=\"inner\", left_on=[\"filename\"], right_on=[\"photo\"]).drop(columns=[\"filename\"])"
   ]
  },
  {
   "cell_type": "code",
   "execution_count": 181,
   "metadata": {},
   "outputs": [
    {
     "data": {
      "text/html": [
       "<div>\n",
       "<style scoped>\n",
       "    .dataframe tbody tr th:only-of-type {\n",
       "        vertical-align: middle;\n",
       "    }\n",
       "\n",
       "    .dataframe tbody tr th {\n",
       "        vertical-align: top;\n",
       "    }\n",
       "\n",
       "    .dataframe thead th {\n",
       "        text-align: right;\n",
       "    }\n",
       "</style>\n",
       "<table border=\"1\" class=\"dataframe\">\n",
       "  <thead>\n",
       "    <tr style=\"text-align: right;\">\n",
       "      <th></th>\n",
       "      <th>photo</th>\n",
       "      <th>url</th>\n",
       "    </tr>\n",
       "  </thead>\n",
       "  <tbody>\n",
       "    <tr>\n",
       "      <th>0</th>\n",
       "      <td>165136</td>\n",
       "      <td>http://piperlime.gap.com/webcontent/0008/707/6...</td>\n",
       "    </tr>\n",
       "    <tr>\n",
       "      <th>1</th>\n",
       "      <td>165137</td>\n",
       "      <td>http://piperlime.gap.com/webcontent/0008/982/9...</td>\n",
       "    </tr>\n",
       "    <tr>\n",
       "      <th>2</th>\n",
       "      <td>165138</td>\n",
       "      <td>http://piperlime.gap.com/webcontent/0008/982/9...</td>\n",
       "    </tr>\n",
       "    <tr>\n",
       "      <th>3</th>\n",
       "      <td>165139</td>\n",
       "      <td>http://piperlime.gap.com/webcontent/0008/312/9...</td>\n",
       "    </tr>\n",
       "    <tr>\n",
       "      <th>4</th>\n",
       "      <td>165140</td>\n",
       "      <td>http://piperlime.gap.com/webcontent/0009/196/5...</td>\n",
       "    </tr>\n",
       "  </tbody>\n",
       "</table>\n",
       "</div>"
      ],
      "text/plain": [
       "    photo                                                url\n",
       "0  165136  http://piperlime.gap.com/webcontent/0008/707/6...\n",
       "1  165137  http://piperlime.gap.com/webcontent/0008/982/9...\n",
       "2  165138  http://piperlime.gap.com/webcontent/0008/982/9...\n",
       "3  165139  http://piperlime.gap.com/webcontent/0008/312/9...\n",
       "4  165140  http://piperlime.gap.com/webcontent/0009/196/5..."
      ]
     },
     "execution_count": 181,
     "metadata": {},
     "output_type": "execute_result"
    }
   ],
   "source": [
    "all_missing_df.head()"
   ]
  },
  {
   "cell_type": "code",
   "execution_count": 186,
   "metadata": {},
   "outputs": [
    {
     "name": "stdout",
     "output_type": "stream",
     "text": [
      "(33954, 2)\n"
     ]
    },
    {
     "data": {
      "text/html": [
       "<div>\n",
       "<style scoped>\n",
       "    .dataframe tbody tr th:only-of-type {\n",
       "        vertical-align: middle;\n",
       "    }\n",
       "\n",
       "    .dataframe tbody tr th {\n",
       "        vertical-align: top;\n",
       "    }\n",
       "\n",
       "    .dataframe thead th {\n",
       "        text-align: right;\n",
       "    }\n",
       "</style>\n",
       "<table border=\"1\" class=\"dataframe\">\n",
       "  <thead>\n",
       "    <tr style=\"text-align: right;\">\n",
       "      <th></th>\n",
       "      <th>photo</th>\n",
       "      <th>url</th>\n",
       "    </tr>\n",
       "  </thead>\n",
       "  <tbody>\n",
       "    <tr>\n",
       "      <th>33949</th>\n",
       "      <td>99976</td>\n",
       "      <td>http://productshots0.modcloth.net/productshots...</td>\n",
       "    </tr>\n",
       "    <tr>\n",
       "      <th>33950</th>\n",
       "      <td>99977</td>\n",
       "      <td>http://productshots2.modcloth.net/productshots...</td>\n",
       "    </tr>\n",
       "    <tr>\n",
       "      <th>33951</th>\n",
       "      <td>99979</td>\n",
       "      <td>http://productshots1.modcloth.net/productshots...</td>\n",
       "    </tr>\n",
       "    <tr>\n",
       "      <th>33952</th>\n",
       "      <td>99981</td>\n",
       "      <td>http://productshots0.modcloth.net/productshots...</td>\n",
       "    </tr>\n",
       "    <tr>\n",
       "      <th>33953</th>\n",
       "      <td>99983</td>\n",
       "      <td>http://productshots3.modcloth.net/productshots...</td>\n",
       "    </tr>\n",
       "  </tbody>\n",
       "</table>\n",
       "</div>"
      ],
      "text/plain": [
       "       photo                                                url\n",
       "33949  99976  http://productshots0.modcloth.net/productshots...\n",
       "33950  99977  http://productshots2.modcloth.net/productshots...\n",
       "33951  99979  http://productshots1.modcloth.net/productshots...\n",
       "33952  99981  http://productshots0.modcloth.net/productshots...\n",
       "33953  99983  http://productshots3.modcloth.net/productshots..."
      ]
     },
     "execution_count": 186,
     "metadata": {},
     "output_type": "execute_result"
    }
   ],
   "source": [
    "broken_urls = pd.read_csv(\"broken_urls.csv\")\n",
    "print(broken_urls.shape)\n",
    "broken_urls.tail()"
   ]
  },
  {
   "cell_type": "code",
   "execution_count": 187,
   "metadata": {},
   "outputs": [],
   "source": [
    "broken_urls = broken_urls.append(all_missing_df)"
   ]
  },
  {
   "cell_type": "code",
   "execution_count": 188,
   "metadata": {},
   "outputs": [],
   "source": [
    "broken_urls.to_csv(\"broken_urls.csv\", index=False)"
   ]
  },
  {
   "cell_type": "markdown",
   "metadata": {},
   "source": [
    "This ends the data cleansing needed to download the dataset, the broken_urls csv file will be send to the street2shop team for further help."
   ]
  }
 ],
 "metadata": {
  "kernelspec": {
   "display_name": "Python 3",
   "language": "python",
   "name": "python3"
  },
  "language_info": {
   "codemirror_mode": {
    "name": "ipython",
    "version": 3
   },
   "file_extension": ".py",
   "mimetype": "text/x-python",
   "name": "python",
   "nbconvert_exporter": "python",
   "pygments_lexer": "ipython3",
   "version": "3.6.5"
  }
 },
 "nbformat": 4,
 "nbformat_minor": 2
}
